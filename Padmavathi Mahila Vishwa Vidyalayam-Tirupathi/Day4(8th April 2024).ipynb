{
 "cells": [
  {
   "cell_type": "markdown",
   "id": "9e2844d1",
   "metadata": {},
   "source": [
    "### Today conepts\n",
    "- continued with operators\n",
    "- conditional statements"
   ]
  },
  {
   "cell_type": "code",
   "execution_count": 4,
   "id": "a69521dd",
   "metadata": {
    "collapsed": true
   },
   "outputs": [
    {
     "name": "stdout",
     "output_type": "stream",
     "text": [
      "enter the value:10\n",
      "10 13\n",
      "10 13 117 21.8\n"
     ]
    }
   ],
   "source": [
    "# assignment operators\n",
    "# =,+=,*=,-=,/= --> we can perform on a single value as well as multiple values\n",
    "n=int(input(\"enter the value:\"))\n",
    "inc=n # initiation of value inc=10\n",
    "inc+=1 # it means what ?==> n=n+1 ==> n is inc by 1 value ==11\n",
    "inc=inc+2 # inc value raised by 2==13\n",
    "print(n,inc) # 10,13\n",
    "inc2=inc*9 \n",
    "dec=inc2-8\n",
    "dec/=5 # dec/5=result stored in again in dec value\n",
    "print(n,inc,inc2,dec)"
   ]
  },
  {
   "cell_type": "code",
   "execution_count": 5,
   "id": "dc9db1cc",
   "metadata": {},
   "outputs": [],
   "source": [
    "# by using the above process , can you able to sum the digits in the value\n",
    "#12345=15 # cannot"
   ]
  },
  {
   "cell_type": "code",
   "execution_count": 6,
   "id": "9004c524",
   "metadata": {},
   "outputs": [
    {
     "data": {
      "text/plain": [
       "13"
      ]
     },
     "execution_count": 6,
     "metadata": {},
     "output_type": "execute_result"
    }
   ],
   "source": [
    "inc"
   ]
  },
  {
   "cell_type": "code",
   "execution_count": 7,
   "id": "366edb38",
   "metadata": {
    "collapsed": true
   },
   "outputs": [
    {
     "name": "stderr",
     "output_type": "stream",
     "text": [
      "<>:1: SyntaxWarning: \"is\" with a literal. Did you mean \"==\"?\n",
      "<>:1: SyntaxWarning: \"is\" with a literal. Did you mean \"==\"?\n",
      "C:\\Users\\ruthu\\AppData\\Local\\Temp\\ipykernel_22796\\2740067112.py:1: SyntaxWarning: \"is\" with a literal. Did you mean \"==\"?\n",
      "  inc is 15 #\n"
     ]
    },
    {
     "data": {
      "text/plain": [
       "False"
      ]
     },
     "execution_count": 7,
     "metadata": {},
     "output_type": "execute_result"
    }
   ],
   "source": [
    "inc is 15 # \"is\" is the identity operator-->boolean value"
   ]
  },
  {
   "cell_type": "code",
   "execution_count": 8,
   "id": "dfb0928d",
   "metadata": {},
   "outputs": [
    {
     "data": {
      "text/plain": [
       "(None, True, False)"
      ]
     },
     "execution_count": 8,
     "metadata": {},
     "output_type": "execute_result"
    }
   ],
   "source": [
    "val=None\n",
    "val2=True\n",
    "val3=False\n",
    "val,val2,val3"
   ]
  },
  {
   "cell_type": "code",
   "execution_count": 9,
   "id": "e4d33dcc",
   "metadata": {},
   "outputs": [
    {
     "data": {
      "text/plain": [
       "13"
      ]
     },
     "execution_count": 9,
     "metadata": {},
     "output_type": "execute_result"
    }
   ],
   "source": [
    "inc"
   ]
  },
  {
   "cell_type": "code",
   "execution_count": 10,
   "id": "5a2a9812",
   "metadata": {
    "collapsed": true
   },
   "outputs": [
    {
     "name": "stderr",
     "output_type": "stream",
     "text": [
      "<>:1: SyntaxWarning: \"is not\" with a literal. Did you mean \"!=\"?\n",
      "<>:1: SyntaxWarning: \"is not\" with a literal. Did you mean \"!=\"?\n",
      "C:\\Users\\ruthu\\AppData\\Local\\Temp\\ipykernel_22796\\624270808.py:1: SyntaxWarning: \"is not\" with a literal. Did you mean \"!=\"?\n",
      "  inc is not 13\n"
     ]
    },
    {
     "data": {
      "text/plain": [
       "False"
      ]
     },
     "execution_count": 10,
     "metadata": {},
     "output_type": "execute_result"
    }
   ],
   "source": [
    "inc is not 13"
   ]
  },
  {
   "cell_type": "code",
   "execution_count": 11,
   "id": "779651d7",
   "metadata": {
    "collapsed": true
   },
   "outputs": [
    {
     "name": "stderr",
     "output_type": "stream",
     "text": [
      "<>:1: SyntaxWarning: \"is\" with a literal. Did you mean \"==\"?\n",
      "<>:1: SyntaxWarning: \"is\" with a literal. Did you mean \"==\"?\n",
      "C:\\Users\\ruthu\\AppData\\Local\\Temp\\ipykernel_22796\\865937335.py:1: SyntaxWarning: \"is\" with a literal. Did you mean \"==\"?\n",
      "  inc is 13\n"
     ]
    },
    {
     "data": {
      "text/plain": [
       "True"
      ]
     },
     "execution_count": 11,
     "metadata": {},
     "output_type": "execute_result"
    }
   ],
   "source": [
    "inc is 13"
   ]
  },
  {
   "cell_type": "code",
   "execution_count": 12,
   "id": "84d5cee4",
   "metadata": {},
   "outputs": [
    {
     "data": {
      "text/plain": [
       "False"
      ]
     },
     "execution_count": 12,
     "metadata": {},
     "output_type": "execute_result"
    }
   ],
   "source": [
    "inc!=13 # assignment?logical"
   ]
  },
  {
   "cell_type": "code",
   "execution_count": 13,
   "id": "8769aca6",
   "metadata": {},
   "outputs": [],
   "source": [
    "# membership operators-->in,not in"
   ]
  },
  {
   "cell_type": "code",
   "execution_count": 15,
   "id": "e9727680",
   "metadata": {
    "collapsed": true
   },
   "outputs": [
    {
     "name": "stdout",
     "output_type": "stream",
     "text": [
      "True\n",
      "False\n",
      "True\n",
      "True\n"
     ]
    }
   ],
   "source": [
    "name=\"Pallavi\"\n",
    "ch='a'\n",
    "c='u'\n",
    "print(ch in name)\n",
    "print(ch not in name)\n",
    "print(c not in name)\n",
    "print(\"alla\" in name)"
   ]
  },
  {
   "cell_type": "code",
   "execution_count": 20,
   "id": "2a1d3007",
   "metadata": {
    "collapsed": true
   },
   "outputs": [
    {
     "name": "stdout",
     "output_type": "stream",
     "text": [
      "False\n",
      "True\n",
      "True\n",
      "True False False\n"
     ]
    }
   ],
   "source": [
    "# logical operators and relational op'rs\n",
    "x,y=100,125\n",
    "print(x>y)# checking the conditional -->boolean value\n",
    "print(x<y) # True\n",
    "print(x!=y) # True\n",
    "print(x<=y,y<=x,y==x)"
   ]
  },
  {
   "cell_type": "code",
   "execution_count": 21,
   "id": "0e83f20a",
   "metadata": {},
   "outputs": [
    {
     "data": {
      "text/plain": [
       "True"
      ]
     },
     "execution_count": 21,
     "metadata": {},
     "output_type": "execute_result"
    }
   ],
   "source": [
    "# logical op'rs on 2 statements\n",
    "x>y or x<y # F or T==>T"
   ]
  },
  {
   "cell_type": "code",
   "execution_count": 22,
   "id": "3d161036",
   "metadata": {},
   "outputs": [
    {
     "data": {
      "text/plain": [
       "False"
      ]
     },
     "execution_count": 22,
     "metadata": {},
     "output_type": "execute_result"
    }
   ],
   "source": [
    "x==y and x!=y # F and T==>F"
   ]
  },
  {
   "cell_type": "code",
   "execution_count": 24,
   "id": "e44e5caf",
   "metadata": {},
   "outputs": [
    {
     "name": "stdout",
     "output_type": "stream",
     "text": [
      "Harish\n"
     ]
    }
   ],
   "source": [
    "name=\"Pallavi\"\n",
    "student=\"Harish\"\n",
    "name=student # name got updation of Harish in it\n",
    "print(name)"
   ]
  },
  {
   "cell_type": "code",
   "execution_count": 25,
   "id": "f85fa55f",
   "metadata": {},
   "outputs": [
    {
     "data": {
      "text/plain": [
       "True"
      ]
     },
     "execution_count": 25,
     "metadata": {},
     "output_type": "execute_result"
    }
   ],
   "source": [
    "name!=\"Harsha\""
   ]
  },
  {
   "cell_type": "code",
   "execution_count": 26,
   "id": "5e6c7882",
   "metadata": {},
   "outputs": [
    {
     "data": {
      "text/plain": [
       "False"
      ]
     },
     "execution_count": 26,
     "metadata": {},
     "output_type": "execute_result"
    }
   ],
   "source": [
    "name!='Harish'"
   ]
  },
  {
   "cell_type": "code",
   "execution_count": 32,
   "id": "6ed38369",
   "metadata": {},
   "outputs": [
    {
     "name": "stdout",
     "output_type": "stream",
     "text": [
      "Harish,Harish,100,125.10@23@45@67.hi\n",
      "hello\n"
     ]
    }
   ],
   "source": [
    "# sep,end==>in day1 class\n",
    "print(name,student,x,y,sep=\",\",end=\".\")\n",
    "print(10,23,45,67,end='.',sep='@')\n",
    "print('hi') # contains end='\\n' by default\n",
    "print('hello')"
   ]
  },
  {
   "cell_type": "code",
   "execution_count": 35,
   "id": "ae9052cb",
   "metadata": {},
   "outputs": [
    {
     "name": "stdout",
     "output_type": "stream",
     "text": [
      "1 2 3 4 5 6\n",
      "1, ,2, ,3, ,4, ,5, ,6.123456\n",
      "1,2,3,4,5,6."
     ]
    }
   ],
   "source": [
    "# read n space separated values from user and print them by using , separation\n",
    "# 1 2 3 4 5 6 7 8 9 ==> o/p:1,2,3,4,5,6,7,8,9\n",
    "nums=input()\n",
    "print(*nums,sep=',',end=\".\")\n",
    "ip=input()\n",
    "print(*ip,sep=\",\",end=\".\")"
   ]
  },
  {
   "cell_type": "code",
   "execution_count": 38,
   "id": "584d4fd8",
   "metadata": {
    "collapsed": true
   },
   "outputs": [
    {
     "name": "stdout",
     "output_type": "stream",
     "text": [
      "12345\n",
      "1 2 3 4 5\n"
     ]
    }
   ],
   "source": [
    "# by using the above process , can you able to sum the digits in the value\n",
    "#12345=15 # cannot\n",
    "num=input()\n",
    "s=0\n",
    "print(*num)\n",
    "nums=input()\n",
    "print(*nums,s+=num,end)"
   ]
  },
  {
   "cell_type": "markdown",
   "id": "96efc1c5",
   "metadata": {},
   "source": [
    "#### Conditional statements\n",
    "- conditions in the program\n",
    "    - if(basic),else(final),elif(else if) 3rd more condition\n",
    "- **syntax**\n",
    "    - if (condition)/condition:\n",
    "        - statements"
   ]
  },
  {
   "cell_type": "code",
   "execution_count": 42,
   "id": "80d9d8bc",
   "metadata": {
    "collapsed": true
   },
   "outputs": [
    {
     "name": "stdout",
     "output_type": "stream",
     "text": [
      "enter the number:90.56\n"
     ]
    },
    {
     "ename": "ValueError",
     "evalue": "invalid literal for int() with base 10: '90.56'",
     "output_type": "error",
     "traceback": [
      "\u001b[1;31m---------------------------------------------------------------------------\u001b[0m",
      "\u001b[1;31mValueError\u001b[0m                                Traceback (most recent call last)",
      "\u001b[1;32m~\\AppData\\Local\\Temp\\ipykernel_22796\\3179382701.py\u001b[0m in \u001b[0;36m<module>\u001b[1;34m\u001b[0m\n\u001b[0;32m      1\u001b[0m \u001b[1;31m# read a from user and check whether it is +ve int/-ve int\u001b[0m\u001b[1;33m\u001b[0m\u001b[1;33m\u001b[0m\u001b[0m\n\u001b[1;32m----> 2\u001b[1;33m \u001b[0mfirst\u001b[0m\u001b[1;33m=\u001b[0m\u001b[0mint\u001b[0m\u001b[1;33m(\u001b[0m\u001b[0minput\u001b[0m\u001b[1;33m(\u001b[0m\u001b[1;34m\"enter the number:\"\u001b[0m\u001b[1;33m)\u001b[0m\u001b[1;33m)\u001b[0m\u001b[1;33m\u001b[0m\u001b[1;33m\u001b[0m\u001b[0m\n\u001b[0m\u001b[0;32m      3\u001b[0m \u001b[1;32mif\u001b[0m \u001b[0mfirst\u001b[0m\u001b[1;33m>\u001b[0m\u001b[1;36m0\u001b[0m\u001b[1;33m:\u001b[0m\u001b[1;33m\u001b[0m\u001b[1;33m\u001b[0m\u001b[0m\n\u001b[0;32m      4\u001b[0m     \u001b[0mprint\u001b[0m\u001b[1;33m(\u001b[0m\u001b[1;34m\"positive integer\"\u001b[0m\u001b[1;33m)\u001b[0m\u001b[1;33m\u001b[0m\u001b[1;33m\u001b[0m\u001b[0m\n\u001b[0;32m      5\u001b[0m \u001b[1;32melif\u001b[0m \u001b[0mfirst\u001b[0m\u001b[1;33m==\u001b[0m\u001b[1;36m0\u001b[0m\u001b[1;33m:\u001b[0m\u001b[1;33m\u001b[0m\u001b[1;33m\u001b[0m\u001b[0m\n",
      "\u001b[1;31mValueError\u001b[0m: invalid literal for int() with base 10: '90.56'"
     ]
    }
   ],
   "source": [
    "# read a from user and check whether it is +ve int/-ve int\n",
    "first=int(input(\"enter the number:\"))\n",
    "if first>0:\n",
    "    print(\"positive integer\")\n",
    "elif first==0:\n",
    "    print(\"zero\")\n",
    "elif first<0:\n",
    "    print(\"negative integer\")\n",
    "else:print(\"invalid input\") # else not executed:exception handling"
   ]
  },
  {
   "cell_type": "code",
   "execution_count": 47,
   "id": "984e0ed5",
   "metadata": {},
   "outputs": [
    {
     "name": "stdout",
     "output_type": "stream",
     "text": [
      "char=a\n",
      "vowel\n"
     ]
    }
   ],
   "source": [
    "# multiple statements--()\n",
    "# char is vowel or not\n",
    "# year is leap or not\n",
    "ch=input(\"char=\")\n",
    "if ch==\"a\" or ch=='e' or ch=='i' or ch==\"o\" or ch=='u': #5 comparisions\n",
    "    print(\"vowel\")\n",
    "else:print(\"consonant\")"
   ]
  },
  {
   "cell_type": "code",
   "execution_count": 52,
   "id": "a5b3a30e",
   "metadata": {
    "collapsed": true
   },
   "outputs": [
    {
     "name": "stdout",
     "output_type": "stream",
     "text": [
      "enter the char:E\n",
      "vowel\n"
     ]
    }
   ],
   "source": [
    "char=input(\"enter the char:\")\n",
    "vowels=\"aeiouAEIOU\"\n",
    "if char in vowels: # by using membership\n",
    "    print(\"vowel\")\n",
    "else:print(\"consonant\")"
   ]
  },
  {
   "cell_type": "markdown",
   "id": "4d2d726a",
   "metadata": {},
   "source": [
    "#### nested conditionals\n",
    "- if statement in if\n",
    "    - condition in condition"
   ]
  },
  {
   "cell_type": "code",
   "execution_count": 58,
   "id": "799b3188",
   "metadata": {
    "collapsed": true
   },
   "outputs": [
    {
     "name": "stdout",
     "output_type": "stream",
     "text": [
      "a)Register b)Login c)Logoutb\n",
      "Please login..!\n",
      "User id:789\n",
      "Password:ABCD\n",
      "Login failed..!\n"
     ]
    }
   ],
   "source": [
    "# example of login credential\n",
    "# you have to register\n",
    "# reg_id & pwd\n",
    "opn=input(\"a)Register b)Login c)Logout\")\n",
    "if opn=='a':\n",
    "    name=input(\"Enter your name:\")\n",
    "    email=input(\"Enter your email id:\")\n",
    "    if name==\"Kavya\": # static\n",
    "        print(\"Registration successful..!\")\n",
    "    else:print(\"Registration Failed..!\")\n",
    "elif opn=='b':\n",
    "    print(\"Please login..!\")\n",
    "    user_id=int(input(\"User id:\"))\n",
    "    pwd=input(\"Password:\")\n",
    "    if pwd==\"abcd\":\n",
    "        print(\"Login Successful..!\")\n",
    "    else:print(\"Login failed..!\")\n",
    "else:\n",
    "    print(\"Thanks for the visit ..!\")"
   ]
  },
  {
   "cell_type": "markdown",
   "id": "ec457f5f",
   "metadata": {},
   "source": [
    "#### Loops\n",
    "- Loop is a circle :refresh button:complete rotation/complete iteration\n",
    "- Iteration of statements is called a loop\n",
    "- to avoid the repetition of statement to write multiple times\n",
    "- 2types of loops\n",
    "    - for,while\n"
   ]
  },
  {
   "cell_type": "code",
   "execution_count": 59,
   "id": "92eba9f8",
   "metadata": {
    "collapsed": true
   },
   "outputs": [
    {
     "name": "stdout",
     "output_type": "stream",
     "text": [
      "Student\n",
      "Student\n",
      "Student\n",
      "Student\n",
      "Student\n",
      "Student\n"
     ]
    }
   ],
   "source": [
    "# write a python program to print your name 5 times\n",
    "print(\"Student\")\n",
    "print(\"Student\")\n",
    "print(\"Student\")\n",
    "print(\"Student\")\n",
    "print(\"Student\")\n",
    "print(\"Student\")"
   ]
  },
  {
   "cell_type": "markdown",
   "id": "7393510e",
   "metadata": {},
   "source": [
    "#### range() \n",
    "- range() is an iterable can hold multiple values a at a time\n",
    "- iterable means a var which contains more than one value can be iterated\n",
    "- user/programmer can store a range of values in a single var\n",
    "- range(end)\n",
    "- range(start,stop)\n",
    "- range(start,stop,step_count)"
   ]
  },
  {
   "cell_type": "code",
   "execution_count": 60,
   "id": "17c98e0a",
   "metadata": {
    "collapsed": true
   },
   "outputs": [
    {
     "ename": "TypeError",
     "evalue": "range expected at least 1 argument, got 0",
     "output_type": "error",
     "traceback": [
      "\u001b[1;31m---------------------------------------------------------------------------\u001b[0m",
      "\u001b[1;31mTypeError\u001b[0m                                 Traceback (most recent call last)",
      "\u001b[1;32m~\\AppData\\Local\\Temp\\ipykernel_22796\\2741177838.py\u001b[0m in \u001b[0;36m<module>\u001b[1;34m\u001b[0m\n\u001b[1;32m----> 1\u001b[1;33m \u001b[0mrange\u001b[0m\u001b[1;33m(\u001b[0m\u001b[1;33m)\u001b[0m\u001b[1;33m\u001b[0m\u001b[1;33m\u001b[0m\u001b[0m\n\u001b[0m",
      "\u001b[1;31mTypeError\u001b[0m: range expected at least 1 argument, got 0"
     ]
    }
   ],
   "source": [
    "range()"
   ]
  },
  {
   "cell_type": "code",
   "execution_count": 61,
   "id": "4c16f270",
   "metadata": {},
   "outputs": [
    {
     "data": {
      "text/plain": [
       "-13"
      ]
     },
     "execution_count": 61,
     "metadata": {},
     "output_type": "execute_result"
    }
   ],
   "source": [
    "first"
   ]
  },
  {
   "cell_type": "code",
   "execution_count": 63,
   "id": "b962deb8",
   "metadata": {},
   "outputs": [],
   "source": [
    "val"
   ]
  },
  {
   "cell_type": "code",
   "execution_count": 76,
   "id": "5cbde854",
   "metadata": {},
   "outputs": [
    {
     "name": "stdout",
     "output_type": "stream",
     "text": [
      "5 range(0, 10)\n",
      "0 1 2 3 4 5 6 7 8 9\n",
      "65 66 67 68 69 70 71 72 73 74 75 76 77 78 79\n"
     ]
    }
   ],
   "source": [
    "r=range(10) # range() starts from 0 by default and can upto 9 (0 to n-1)\n",
    "var=5\n",
    "print(var,r)\n",
    "print(*r)\n",
    "#chars=range(\"A\",'Z') won't work:chars\n",
    "#print(*chars)\n",
    "chars=range(65,80) # 65 to 79:hiding chars\n",
    "print(*chars,)"
   ]
  },
  {
   "cell_type": "code",
   "execution_count": 66,
   "id": "6bf5192e",
   "metadata": {},
   "outputs": [],
   "source": [
    "# chars from A to J"
   ]
  },
  {
   "cell_type": "code",
   "execution_count": 67,
   "id": "d0af0d76",
   "metadata": {},
   "outputs": [
    {
     "data": {
      "text/plain": [
       "65"
      ]
     },
     "execution_count": 67,
     "metadata": {},
     "output_type": "execute_result"
    }
   ],
   "source": [
    "ord('A') # ASCII value of char"
   ]
  },
  {
   "cell_type": "code",
   "execution_count": 68,
   "id": "42333f83",
   "metadata": {},
   "outputs": [
    {
     "data": {
      "text/plain": [
       "'A'"
      ]
     },
     "execution_count": 68,
     "metadata": {},
     "output_type": "execute_result"
    }
   ],
   "source": [
    "chr(65) # corresponding char of the given"
   ]
  },
  {
   "cell_type": "code",
   "execution_count": 78,
   "id": "72062a91",
   "metadata": {},
   "outputs": [
    {
     "name": "stdout",
     "output_type": "stream",
     "text": [
      "Enter the number:8\n",
      "8 x 1 = 8\n",
      "8 x 2 = 16\n",
      "8 x 3 = 24\n",
      "8 x 4 = 32\n",
      "8 x 5 = 40\n",
      "8 x 6 = 48\n",
      "8 x 7 = 56\n",
      "8 x 8 = 64\n",
      "8 x 9 = 72\n",
      "8 x 10 = 80\n"
     ]
    }
   ],
   "source": [
    "# write a python program to display the multiplication table of n\n",
    "n=int(input(\"Enter the number:\"))\n",
    "''' 8x1=8\n",
    "8x2=16 # n is constant,middle number(1 to 11) got increment by 1 ,=result\n",
    "8x3=24\n",
    ".....\n",
    "8x10=80 '''\n",
    "#print(*range(10))\n",
    "for num in range(1,11): # range(1,11) # 1 to 10\n",
    "    print(n,'x',num,'=',n*num)\n",
    "    "
   ]
  },
  {
   "cell_type": "code",
   "execution_count": null,
   "id": "6c5d0d4c",
   "metadata": {},
   "outputs": [],
   "source": []
  }
 ],
 "metadata": {
  "kernelspec": {
   "display_name": "Python 3 (ipykernel)",
   "language": "python",
   "name": "python3"
  },
  "language_info": {
   "codemirror_mode": {
    "name": "ipython",
    "version": 3
   },
   "file_extension": ".py",
   "mimetype": "text/x-python",
   "name": "python",
   "nbconvert_exporter": "python",
   "pygments_lexer": "ipython3",
   "version": "3.9.13"
  }
 },
 "nbformat": 4,
 "nbformat_minor": 5
}
