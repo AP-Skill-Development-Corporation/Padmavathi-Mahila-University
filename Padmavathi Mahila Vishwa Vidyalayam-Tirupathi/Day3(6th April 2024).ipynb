{
 "cells": [
  {
   "cell_type": "markdown",
   "id": "0a742add",
   "metadata": {},
   "source": [
    "#### Key concepts\n",
    "- Errors in python\n",
    "- Variables"
   ]
  },
  {
   "cell_type": "markdown",
   "id": "53282603",
   "metadata": {},
   "source": [
    "#### Errors in python\n",
    "- set of valid instructions is called a program\n",
    "- An invalid statement in the program called as an Error\n",
    "    - **3types of Errors**\n",
    "        1. Syntax Error\n",
    "            - Error related to Syntax\n",
    "            - Syntax means the programmer/user should follow the order/\n",
    "                - statements used in the code/prgm should be valid\n",
    "        2. Value Error and\n",
    "            - keyword error,value error,file not found error, etc..\n",
    "        3. Indendatation Error\n",
    "            - Error related to space"
   ]
  },
  {
   "cell_type": "markdown",
   "id": "ec621993",
   "metadata": {},
   "source": [
    "<P>working with html</P>\n",
    "<H3>Heading3</H3>"
   ]
  },
  {
   "cell_type": "markdown",
   "id": "54c6675b",
   "metadata": {},
   "source": [
    "AND\n",
    "and "
   ]
  },
  {
   "cell_type": "code",
   "execution_count": 1,
   "id": "8b1e249d",
   "metadata": {
    "collapsed": true
   },
   "outputs": [
    {
     "ename": "SyntaxError",
     "evalue": "EOL while scanning string literal (68525557.py, line 2)",
     "output_type": "error",
     "traceback": [
      "\u001b[1;36m  File \u001b[1;32m\"C:\\Users\\ruthu\\AppData\\Local\\Temp\\ipykernel_12188\\68525557.py\"\u001b[1;36m, line \u001b[1;32m2\u001b[0m\n\u001b[1;33m    print(\"Started with double quotes and ended with single quote')\u001b[0m\n\u001b[1;37m                                                                   ^\u001b[0m\n\u001b[1;31mSyntaxError\u001b[0m\u001b[1;31m:\u001b[0m EOL while scanning string literal\n"
     ]
    }
   ],
   "source": [
    "#syntax error\n",
    "print(\"Started with double quotes and ended with single quote')"
   ]
  },
  {
   "cell_type": "code",
   "execution_count": 2,
   "id": "35237d7b",
   "metadata": {},
   "outputs": [
    {
     "data": {
      "text/plain": [
       "'Student'"
      ]
     },
     "execution_count": 2,
     "metadata": {},
     "output_type": "execute_result"
    }
   ],
   "source": [
    "\"Student\""
   ]
  },
  {
   "cell_type": "code",
   "execution_count": 3,
   "id": "af700b96",
   "metadata": {},
   "outputs": [
    {
     "data": {
      "text/plain": [
       "'student'"
      ]
     },
     "execution_count": 3,
     "metadata": {},
     "output_type": "execute_result"
    }
   ],
   "source": [
    "'student'"
   ]
  },
  {
   "cell_type": "code",
   "execution_count": 4,
   "id": "570c63b4",
   "metadata": {},
   "outputs": [
    {
     "name": "stdout",
     "output_type": "stream",
     "text": [
      "I am 'Sandhya' from PMVV\n"
     ]
    }
   ],
   "source": [
    "# write a python program to highlight the sub text/sub string in the line\n",
    "# I am 'Sandhya' from PMVV\n",
    "print(\"I am 'Sandhya' from PMVV\")"
   ]
  },
  {
   "cell_type": "code",
   "execution_count": 5,
   "id": "15f979db",
   "metadata": {
    "collapsed": true
   },
   "outputs": [
    {
     "ename": "NameError",
     "evalue": "name 'PRINT' is not defined",
     "output_type": "error",
     "traceback": [
      "\u001b[1;31m---------------------------------------------------------------------------\u001b[0m",
      "\u001b[1;31mNameError\u001b[0m                                 Traceback (most recent call last)",
      "\u001b[1;32m~\\AppData\\Local\\Temp\\ipykernel_12188\\3271509070.py\u001b[0m in \u001b[0;36m<module>\u001b[1;34m\u001b[0m\n\u001b[1;32m----> 1\u001b[1;33m \u001b[0mPRINT\u001b[0m\u001b[1;33m(\u001b[0m\u001b[1;33m)\u001b[0m\u001b[1;33m\u001b[0m\u001b[1;33m\u001b[0m\u001b[0m\n\u001b[0m",
      "\u001b[1;31mNameError\u001b[0m: name 'PRINT' is not defined"
     ]
    }
   ],
   "source": [
    "PRINT()"
   ]
  },
  {
   "cell_type": "code",
   "execution_count": 7,
   "id": "f463c3d9",
   "metadata": {
    "collapsed": true
   },
   "outputs": [
    {
     "name": "stdout",
     "output_type": "stream",
     "text": [
      "I am \"Sandhya\" from PMVV\n",
      " I am 'student' of PMVV\n"
     ]
    }
   ],
   "source": [
    "print('I am \"Sandhya\" from PMVV')\n",
    "print(''' I am 'student' of PMVV''') #"
   ]
  },
  {
   "cell_type": "markdown",
   "id": "9a51b7f9",
   "metadata": {},
   "source": [
    "#### Variables in python\n",
    "- a reserved memory location to store the values/data\n",
    "- A variable is a container that stores the data/values\n",
    "- there is no type declaration in python\n",
    "- let x=10:assigning the value 10 to the var x\n",
    "- student='Manasa'"
   ]
  },
  {
   "cell_type": "code",
   "execution_count": 9,
   "id": "070ea1a7",
   "metadata": {
    "collapsed": true
   },
   "outputs": [
    {
     "name": "stdout",
     "output_type": "stream",
     "text": [
      "I am  Manasa and I got 10 cgpa\n"
     ]
    },
    {
     "data": {
      "text/plain": [
       "(10, 'Manasa')"
      ]
     },
     "execution_count": 9,
     "metadata": {},
     "output_type": "execute_result"
    }
   ],
   "source": [
    "x=10\n",
    "student='Manasa'\n",
    "print(\"I am \",student,\"and I got\",x,\"cgpa\")\n",
    "x,student"
   ]
  },
  {
   "cell_type": "code",
   "execution_count": 11,
   "id": "8a13e5e1",
   "metadata": {},
   "outputs": [],
   "source": [
    " # + to separate the values/data in print()"
   ]
  },
  {
   "cell_type": "code",
   "execution_count": 16,
   "id": "6302b9b9",
   "metadata": {},
   "outputs": [],
   "source": [
    "# declaring multiple variables\n",
    "# 2 values and 2 string data\n",
    "f,s=10,15 # f=10 and s=15\n",
    "st,fc='Nandini','Jyothi Mam'\n",
    "m=10;n=15 # allowed,; means end\n",
    "#i=20,j=25; not allowed"
   ]
  },
  {
   "cell_type": "code",
   "execution_count": 18,
   "id": "9b5dedc2",
   "metadata": {
    "collapsed": true
   },
   "outputs": [
    {
     "name": "stdout",
     "output_type": "stream",
     "text": [
      "10 15 10 15\n",
      "Nandini Jyothi Mam\n"
     ]
    }
   ],
   "source": [
    "print(f,s,m,n)\n",
    "print(st,fc)"
   ]
  },
  {
   "cell_type": "code",
   "execution_count": 19,
   "id": "0b3c3210",
   "metadata": {},
   "outputs": [
    {
     "name": "stdout",
     "output_type": "stream",
     "text": [
      "10 10 10\n"
     ]
    }
   ],
   "source": [
    "# equate the variable\n",
    "# single to multiple variables\n",
    "a=b=c=10\n",
    "print(a,b,c)"
   ]
  },
  {
   "cell_type": "code",
   "execution_count": 20,
   "id": "e08fa666",
   "metadata": {
    "collapsed": true
   },
   "outputs": [
    {
     "ename": "SyntaxError",
     "evalue": "invalid syntax (2234061566.py, line 1)",
     "output_type": "error",
     "traceback": [
      "\u001b[1;36m  File \u001b[1;32m\"C:\\Users\\ruthu\\AppData\\Local\\Temp\\ipykernel_12188\\2234061566.py\"\u001b[1;36m, line \u001b[1;32m1\u001b[0m\n\u001b[1;33m    int val=30\u001b[0m\n\u001b[1;37m        ^\u001b[0m\n\u001b[1;31mSyntaxError\u001b[0m\u001b[1;31m:\u001b[0m invalid syntax\n"
     ]
    }
   ],
   "source": [
    "int val=30 # error"
   ]
  },
  {
   "cell_type": "markdown",
   "id": "33a81a77",
   "metadata": {},
   "source": [
    "#### Operators in python\n",
    "- a symbol that performs an operation b/w 2 operands\n",
    "    - EX:a+b\n",
    "        - + is the op'r and a,b are the operands:summation op'n\n",
    "- Types of operators\n",
    "    1. Arithmetic operators\n",
    "        - +,-,*,/,//,%,**\n",
    "    2. Assignment\n",
    "        - =,+=,*=(increment operators),-=,/=(decrement op'rs)\n",
    "    3. Boolean\n",
    "        - True,False,None\n",
    "    4. Bitwise\n",
    "        - |,&,^ (Bitwise xor),\n",
    "    5. Comparisional/Relational\n",
    "        - <,<=,>,>=,==\n",
    "    6. Identity \n",
    "        - is,is not\n",
    "    7. Logical\n",
    "        - not,or,and\n",
    "    8. Membership\n",
    "        - in,not in\n",
    "    9. Special \n",
    "        - sep,end seen in print()\n",
    "    10. Unary Operators\n",
    "        - it can perform on single operand\n",
    "            - >>,<<(shift op'rs)\n",
    "    11. Ternary Operator\n",
    "        - a,b?c"
   ]
  },
  {
   "cell_type": "markdown",
   "id": "f48ac092",
   "metadata": {},
   "source": [
    "#### Arithemtic Operators\n",
    "- +,-,*,/,//,%,**"
   ]
  },
  {
   "cell_type": "code",
   "execution_count": 21,
   "id": "a263ad0a",
   "metadata": {},
   "outputs": [],
   "source": [
    "# Dynamic reading and\n",
    "# type conversion of data"
   ]
  },
  {
   "cell_type": "code",
   "execution_count": 22,
   "id": "5435a87e",
   "metadata": {},
   "outputs": [
    {
     "data": {
      "text/plain": [
       "10"
      ]
     },
     "execution_count": 22,
     "metadata": {},
     "output_type": "execute_result"
    }
   ],
   "source": [
    "x # static data which is constant "
   ]
  },
  {
   "cell_type": "markdown",
   "id": "512e297e",
   "metadata": {},
   "source": [
    "#### Dynamic\n",
    " - input() which reads string data from the user/keyboard by default\n",
    " - int(input()) # explicit type casting/conversion\n",
    " - float(input()) # reads float data\n",
    " - **Type conversion**\n",
    "     - conversion of data type of var/value from one format to another\n",
    "     - 2types of conversions\n",
    "         1. Implicit conversion\n",
    "             - default conversion by the interpreter\n",
    "         2. Explicit conversion\n",
    "             - conversion by user/programmer"
   ]
  },
  {
   "cell_type": "code",
   "execution_count": 27,
   "id": "489c1d44",
   "metadata": {},
   "outputs": [
    {
     "data": {
      "text/plain": [
       "10"
      ]
     },
     "execution_count": 27,
     "metadata": {},
     "output_type": "execute_result"
    }
   ],
   "source": [
    "x"
   ]
  },
  {
   "cell_type": "code",
   "execution_count": 28,
   "id": "30963360",
   "metadata": {},
   "outputs": [
    {
     "data": {
      "text/plain": [
       "10.0"
      ]
     },
     "execution_count": 28,
     "metadata": {},
     "output_type": "execute_result"
    }
   ],
   "source": [
    "float(x)"
   ]
  },
  {
   "cell_type": "code",
   "execution_count": 29,
   "id": "01413aeb",
   "metadata": {},
   "outputs": [
    {
     "data": {
      "text/plain": [
       "True"
      ]
     },
     "execution_count": 29,
     "metadata": {},
     "output_type": "execute_result"
    }
   ],
   "source": [
    "bool(x)"
   ]
  },
  {
   "cell_type": "code",
   "execution_count": 30,
   "id": "2aafa1fd",
   "metadata": {},
   "outputs": [
    {
     "data": {
      "text/plain": [
       "'0b1010'"
      ]
     },
     "execution_count": 30,
     "metadata": {},
     "output_type": "execute_result"
    }
   ],
   "source": [
    "#binary form of int value\n",
    "bin(x)"
   ]
  },
  {
   "cell_type": "code",
   "execution_count": 31,
   "id": "e54b030d",
   "metadata": {},
   "outputs": [
    {
     "data": {
      "text/plain": [
       "'0b1010'"
      ]
     },
     "execution_count": 31,
     "metadata": {},
     "output_type": "execute_result"
    }
   ],
   "source": [
    "bin(10) # I am converting the int into binary"
   ]
  },
  {
   "cell_type": "code",
   "execution_count": 32,
   "id": "591d59b0",
   "metadata": {},
   "outputs": [
    {
     "data": {
      "text/plain": [
       "'0b10100'"
      ]
     },
     "execution_count": 32,
     "metadata": {},
     "output_type": "execute_result"
    }
   ],
   "source": [
    "bin(20) # explicit conversion"
   ]
  },
  {
   "cell_type": "code",
   "execution_count": 33,
   "id": "5bcb3a44",
   "metadata": {},
   "outputs": [
    {
     "data": {
      "text/plain": [
       "50.5"
      ]
     },
     "execution_count": 33,
     "metadata": {},
     "output_type": "execute_result"
    }
   ],
   "source": [
    "10+40.5 # int ,float==>float-->implicit conversion"
   ]
  },
  {
   "cell_type": "code",
   "execution_count": 34,
   "id": "09dbd6fa",
   "metadata": {
    "collapsed": true
   },
   "outputs": [
    {
     "ename": "TypeError",
     "evalue": "can only concatenate str (not \"int\") to str",
     "output_type": "error",
     "traceback": [
      "\u001b[1;31m---------------------------------------------------------------------------\u001b[0m",
      "\u001b[1;31mTypeError\u001b[0m                                 Traceback (most recent call last)",
      "\u001b[1;32m~\\AppData\\Local\\Temp\\ipykernel_12188\\763556092.py\u001b[0m in \u001b[0;36m<module>\u001b[1;34m\u001b[0m\n\u001b[0;32m      1\u001b[0m \u001b[0my\u001b[0m\u001b[1;33m=\u001b[0m\u001b[1;34m'9'\u001b[0m\u001b[1;33m\u001b[0m\u001b[1;33m\u001b[0m\u001b[0m\n\u001b[0;32m      2\u001b[0m \u001b[0mz\u001b[0m\u001b[1;33m=\u001b[0m\u001b[1;36m10\u001b[0m\u001b[1;33m\u001b[0m\u001b[1;33m\u001b[0m\u001b[0m\n\u001b[1;32m----> 3\u001b[1;33m \u001b[0mprint\u001b[0m\u001b[1;33m(\u001b[0m\u001b[0my\u001b[0m\u001b[1;33m+\u001b[0m\u001b[0mz\u001b[0m\u001b[1;33m)\u001b[0m \u001b[1;31m# output ?\u001b[0m\u001b[1;33m\u001b[0m\u001b[1;33m\u001b[0m\u001b[0m\n\u001b[0m",
      "\u001b[1;31mTypeError\u001b[0m: can only concatenate str (not \"int\") to str"
     ]
    }
   ],
   "source": [
    "y='9'\n",
    "z=10\n",
    "print(y+z) # output ? \n",
    "# line by line : first y(str) z(int) +"
   ]
  },
  {
   "cell_type": "code",
   "execution_count": 35,
   "id": "94176759",
   "metadata": {},
   "outputs": [
    {
     "name": "stdout",
     "output_type": "stream",
     "text": [
      "19\n"
     ]
    }
   ],
   "source": [
    "print(int(y)+z) # by using +(concatenate 2 strs and add 2 integers)\n",
    "# addition"
   ]
  },
  {
   "cell_type": "code",
   "execution_count": 36,
   "id": "fca4a7bb",
   "metadata": {},
   "outputs": [
    {
     "name": "stdout",
     "output_type": "stream",
     "text": [
      "910\n"
     ]
    }
   ],
   "source": [
    "print(y+str(z)) # concatenation results in string but not int"
   ]
  },
  {
   "cell_type": "code",
   "execution_count": 37,
   "id": "7fbd87cc",
   "metadata": {},
   "outputs": [
    {
     "data": {
      "text/plain": [
       "'910'"
      ]
     },
     "execution_count": 37,
     "metadata": {},
     "output_type": "execute_result"
    }
   ],
   "source": [
    "'9'+'10' #910 :str"
   ]
  },
  {
   "cell_type": "code",
   "execution_count": 38,
   "id": "4c285d61",
   "metadata": {},
   "outputs": [
    {
     "data": {
      "text/plain": [
       "'ab'"
      ]
     },
     "execution_count": 38,
     "metadata": {},
     "output_type": "execute_result"
    }
   ],
   "source": [
    "'a'+'b'"
   ]
  },
  {
   "cell_type": "code",
   "execution_count": 39,
   "id": "f03dc5c8",
   "metadata": {},
   "outputs": [
    {
     "data": {
      "text/plain": [
       "45"
      ]
     },
     "execution_count": 39,
     "metadata": {},
     "output_type": "execute_result"
    }
   ],
   "source": [
    "# * can perform product on integers and duplicate the string\n",
    "9*5 # being an integers-->result is also an integers"
   ]
  },
  {
   "cell_type": "code",
   "execution_count": 40,
   "id": "c19d9ecd",
   "metadata": {},
   "outputs": [
    {
     "data": {
      "text/plain": [
       "'rrrrrrrrr'"
      ]
     },
     "execution_count": 40,
     "metadata": {},
     "output_type": "execute_result"
    }
   ],
   "source": [
    "9*'r' # duplication of 'r' 9 times"
   ]
  },
  {
   "cell_type": "code",
   "execution_count": 41,
   "id": "8166ad7e",
   "metadata": {},
   "outputs": [
    {
     "data": {
      "text/plain": [
       "'iiiii'"
      ]
     },
     "execution_count": 41,
     "metadata": {},
     "output_type": "execute_result"
    }
   ],
   "source": [
    "'i'*5"
   ]
  },
  {
   "cell_type": "code",
   "execution_count": 42,
   "id": "73265f94",
   "metadata": {},
   "outputs": [
    {
     "data": {
      "text/plain": [
       "45"
      ]
     },
     "execution_count": 42,
     "metadata": {},
     "output_type": "execute_result"
    }
   ],
   "source": [
    "5*9# a*b=b*a"
   ]
  },
  {
   "cell_type": "code",
   "execution_count": 49,
   "id": "368c893d",
   "metadata": {},
   "outputs": [
    {
     "name": "stdout",
     "output_type": "stream",
     "text": [
      "enter your name:new name\n",
      "Yamini\n",
      "new name\n"
     ]
    }
   ],
   "source": [
    "#dynamic reading of data\n",
    "nm=\"Yamini\"\n",
    "name=input(\"enter your name:\") # to read the str :padmavathi\n",
    "print(nm)\n",
    "print(name)"
   ]
  },
  {
   "cell_type": "code",
   "execution_count": 50,
   "id": "d98714a2",
   "metadata": {},
   "outputs": [
    {
     "data": {
      "text/plain": [
       "'new name'"
      ]
     },
     "execution_count": 50,
     "metadata": {},
     "output_type": "execute_result"
    }
   ],
   "source": [
    "name"
   ]
  },
  {
   "cell_type": "code",
   "execution_count": 46,
   "id": "d41ee05e",
   "metadata": {},
   "outputs": [
    {
     "data": {
      "text/plain": [
       "'Yamini'"
      ]
     },
     "execution_count": 46,
     "metadata": {},
     "output_type": "execute_result"
    }
   ],
   "source": [
    "nm"
   ]
  },
  {
   "cell_type": "code",
   "execution_count": 51,
   "id": "caffecad",
   "metadata": {},
   "outputs": [
    {
     "data": {
      "text/plain": [
       "'Yamini'"
      ]
     },
     "execution_count": 51,
     "metadata": {},
     "output_type": "execute_result"
    }
   ],
   "source": [
    "nm"
   ]
  },
  {
   "cell_type": "code",
   "execution_count": 52,
   "id": "4a807fee",
   "metadata": {},
   "outputs": [
    {
     "data": {
      "text/plain": [
       "'new name'"
      ]
     },
     "execution_count": 52,
     "metadata": {},
     "output_type": "execute_result"
    }
   ],
   "source": [
    "name"
   ]
  },
  {
   "cell_type": "code",
   "execution_count": 54,
   "id": "f17fb986",
   "metadata": {
    "collapsed": true
   },
   "outputs": [
    {
     "name": "stdout",
     "output_type": "stream",
     "text": [
      "first value:9\n",
      "second value:5\n",
      "9 5\n",
      "sum= 14\n",
      "difference= 4\n",
      "product= 45\n",
      "coefficient= 1.8\n",
      "exact coefficient= 1\n",
      "remainder= 4\n",
      "exponential= 59049\n"
     ]
    }
   ],
   "source": [
    "# write a python program to read 2 numbers from user and perform all the\n",
    "# arithmetic operations\n",
    "val=int(input(\"first value:\"))\n",
    "second=int(input(\"second value:\"))\n",
    "print(val,second)\n",
    "print(\"sum=\",val+second)\n",
    "print(\"difference=\",val-second) # second-val\n",
    "print(\"product=\",val*second)\n",
    "print(\"coefficient=\",val/second)\n",
    "print(\"exact coefficient=\",val//second)\n",
    "print(\"remainder=\",val%second)\n",
    "print(\"exponential=\",val**second) # 9,5,9**5"
   ]
  },
  {
   "cell_type": "code",
   "execution_count": 57,
   "id": "c7ffaa32",
   "metadata": {},
   "outputs": [
    {
     "data": {
      "text/plain": [
       "1.8"
      ]
     },
     "execution_count": 57,
     "metadata": {},
     "output_type": "execute_result"
    }
   ],
   "source": [
    "9/5"
   ]
  },
  {
   "cell_type": "code",
   "execution_count": 58,
   "id": "0a9bcc7a",
   "metadata": {},
   "outputs": [
    {
     "data": {
      "text/plain": [
       "1"
      ]
     },
     "execution_count": 58,
     "metadata": {},
     "output_type": "execute_result"
    }
   ],
   "source": [
    "9//5"
   ]
  },
  {
   "cell_type": "code",
   "execution_count": 59,
   "id": "55deaa6a",
   "metadata": {
    "collapsed": true
   },
   "outputs": [
    {
     "ename": "SyntaxError",
     "evalue": "unmatched ')' (89485473.py, line 1)",
     "output_type": "error",
     "traceback": [
      "\u001b[1;36m  File \u001b[1;32m\"C:\\Users\\ruthu\\AppData\\Local\\Temp\\ipykernel_12188\\89485473.py\"\u001b[1;36m, line \u001b[1;32m1\u001b[0m\n\u001b[1;33m    5)9(1\u001b[0m\n\u001b[1;37m     ^\u001b[0m\n\u001b[1;31mSyntaxError\u001b[0m\u001b[1;31m:\u001b[0m unmatched ')'\n"
     ]
    }
   ],
   "source": [
    "5)9(1\n",
    "  5\n",
    "------\n",
    "  4"
   ]
  },
  {
   "cell_type": "code",
   "execution_count": 65,
   "id": "aa99e398",
   "metadata": {},
   "outputs": [
    {
     "name": "stdout",
     "output_type": "stream",
     "text": [
      "40\n",
      "2\n"
     ]
    }
   ],
   "source": [
    " # shift operators\n",
    " # <<(increment),>>(decrement)-->unary operators\n",
    "a=10 # int\n",
    "print(a<<2) # how many positions I should move the value:40\n",
    "# 10 to 40\n",
    "print(a>>2) # 2 places to right"
   ]
  },
  {
   "cell_type": "code",
   "execution_count": 62,
   "id": "9ea3b636",
   "metadata": {},
   "outputs": [
    {
     "data": {
      "text/plain": [
       "'0b1010'"
      ]
     },
     "execution_count": 62,
     "metadata": {},
     "output_type": "execute_result"
    }
   ],
   "source": [
    "bin(10) # 8 digits"
   ]
  },
  {
   "cell_type": "code",
   "execution_count": 63,
   "id": "3555b4d1",
   "metadata": {},
   "outputs": [
    {
     "data": {
      "text/plain": [
       "1010"
      ]
     },
     "execution_count": 63,
     "metadata": {},
     "output_type": "execute_result"
    }
   ],
   "source": [
    "1010 # 0000 1010-->00101000 (8 places to be filled)"
   ]
  },
  {
   "cell_type": "code",
   "execution_count": 64,
   "id": "fdaa8e75",
   "metadata": {},
   "outputs": [
    {
     "data": {
      "text/plain": [
       "'0b101000'"
      ]
     },
     "execution_count": 64,
     "metadata": {},
     "output_type": "execute_result"
    }
   ],
   "source": [
    "bin(40)"
   ]
  },
  {
   "cell_type": "code",
   "execution_count": 66,
   "id": "95665851",
   "metadata": {},
   "outputs": [],
   "source": [
    "# 00001010->000000 10-->2^(-1),26(-2)"
   ]
  },
  {
   "cell_type": "markdown",
   "id": "46ed660f",
   "metadata": {},
   "source": [
    "##### Bitwise operators\n",
    "- | (Bitwise or) &(Bitwise and) ^(Bitwise XOR)\n",
    "- performing operation on each bit of the digit\n",
    "- 1 byte = 8 bits\n",
    "- 1 value=8 bits(0/1)"
   ]
  },
  {
   "cell_type": "code",
   "execution_count": 71,
   "id": "7afd9bda",
   "metadata": {},
   "outputs": [
    {
     "name": "stdout",
     "output_type": "stream",
     "text": [
      "31\n",
      "4\n",
      "27\n"
     ]
    }
   ],
   "source": [
    "i,j=15,20\n",
    "print(i|j) # or \n",
    "# Truth table OR/union\n",
    "'''  0 =0\n",
    "0 1 =1\n",
    "1 0 =1\n",
    "1 1=1 '''\n",
    "print(i&j)\n",
    "print(i^j)"
   ]
  },
  {
   "cell_type": "code",
   "execution_count": 68,
   "id": "d9ef335f",
   "metadata": {},
   "outputs": [
    {
     "data": {
      "text/plain": [
       "('0b1111', '0b10100')"
      ]
     },
     "execution_count": 68,
     "metadata": {},
     "output_type": "execute_result"
    }
   ],
   "source": [
    "bin(i),bin(j)"
   ]
  },
  {
   "cell_type": "code",
   "execution_count": null,
   "id": "632ff7e7",
   "metadata": {},
   "outputs": [],
   "source": [
    "00001111\n",
    "00010100\n",
    "========\n",
    "00011111====1+2+4+8+16=31\n",
    "========\n",
    "00000100===4\n",
    "========= (opposite signs=1,same signs=0) Bitwise XOR\n",
    "00011011===1+2+8+16=27"
   ]
  }
 ],
 "metadata": {
  "kernelspec": {
   "display_name": "Python 3 (ipykernel)",
   "language": "python",
   "name": "python3"
  },
  "language_info": {
   "codemirror_mode": {
    "name": "ipython",
    "version": 3
   },
   "file_extension": ".py",
   "mimetype": "text/x-python",
   "name": "python",
   "nbconvert_exporter": "python",
   "pygments_lexer": "ipython3",
   "version": "3.9.13"
  }
 },
 "nbformat": 4,
 "nbformat_minor": 5
}
