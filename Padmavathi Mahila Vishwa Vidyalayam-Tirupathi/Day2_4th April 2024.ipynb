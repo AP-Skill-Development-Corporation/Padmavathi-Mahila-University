{
 "cells": [
  {
   "cell_type": "code",
   "execution_count": 1,
   "id": "23847906",
   "metadata": {},
   "outputs": [
    {
     "data": {
      "text/plain": [
       "43"
      ]
     },
     "execution_count": 1,
     "metadata": {},
     "output_type": "execute_result"
    }
   ],
   "source": [
    "# write a python program that adds 2 numbers\n",
    "9+34 # print()\n",
    "# you please try with other arithmetic operators and submit in char box\n",
    "# +,-,*,/,%,//,** on any 2 numbers like the above"
   ]
  },
  {
   "cell_type": "code",
   "execution_count": 2,
   "id": "b4c87867",
   "metadata": {},
   "outputs": [
    {
     "data": {
      "text/plain": [
       "25"
      ]
     },
     "execution_count": 2,
     "metadata": {},
     "output_type": "execute_result"
    }
   ],
   "source": [
    "34-9"
   ]
  },
  {
   "cell_type": "code",
   "execution_count": 3,
   "id": "8939bf78",
   "metadata": {},
   "outputs": [
    {
     "data": {
      "text/plain": [
       "49"
      ]
     },
     "execution_count": 3,
     "metadata": {},
     "output_type": "execute_result"
    }
   ],
   "source": [
    "7*7"
   ]
  },
  {
   "cell_type": "code",
   "execution_count": 4,
   "id": "8ff938f4",
   "metadata": {},
   "outputs": [
    {
     "data": {
      "text/plain": [
       "3.0"
      ]
     },
     "execution_count": 4,
     "metadata": {},
     "output_type": "execute_result"
    }
   ],
   "source": [
    "9/3"
   ]
  },
  {
   "cell_type": "markdown",
   "id": "b976ac00",
   "metadata": {},
   "source": [
    "### Literate programming\n",
    "- Programming along with documentation is called literate programming\n",
    "\n",
    "- print() is the pre-defined function used to display the output on the screen to user/programmer"
   ]
  },
  {
   "cell_type": "code",
   "execution_count": 5,
   "id": "0a651bc9",
   "metadata": {},
   "outputs": [
    {
     "data": {
      "text/plain": [
       "14"
      ]
     },
     "execution_count": 5,
     "metadata": {},
     "output_type": "execute_result"
    }
   ],
   "source": [
    "9+5 # print() didn't used but we got the output\n",
    "# syntax free nature of python"
   ]
  },
  {
   "cell_type": "markdown",
   "id": "04bec7a3",
   "metadata": {},
   "source": [
    "#### python program to display welcome message"
   ]
  },
  {
   "cell_type": "code",
   "execution_count": 6,
   "id": "d571f40a",
   "metadata": {},
   "outputs": [
    {
     "name": "stdout",
     "output_type": "stream",
     "text": [
      "welcome to python programming\n"
     ]
    }
   ],
   "source": [
    "print(\"welcome to python programming\")"
   ]
  },
  {
   "cell_type": "code",
   "execution_count": 7,
   "id": "9341c3ca",
   "metadata": {},
   "outputs": [
    {
     "name": "stdout",
     "output_type": "stream",
     "text": [
      "single quoted text\n"
     ]
    }
   ],
   "source": [
    "print('single quoted text')"
   ]
  },
  {
   "cell_type": "code",
   "execution_count": 9,
   "id": "2a26341d",
   "metadata": {},
   "outputs": [
    {
     "name": "stdout",
     "output_type": "stream",
     "text": [
      " triple quoted text\n",
      "13\n"
     ]
    }
   ],
   "source": [
    "print(''' triple quoted text''') # string data needs to be quoted\n",
    "print(9+4) # integer data no need to be quoted"
   ]
  },
  {
   "cell_type": "code",
   "execution_count": 10,
   "id": "ff4ab676",
   "metadata": {},
   "outputs": [
    {
     "name": "stdout",
     "output_type": "stream",
     "text": [
      "I am student from Padmavathi Mahila Visva Vidyalayam and my roll is 123\n"
     ]
    }
   ],
   "source": [
    "print(\"I am student from Padmavathi Mahila Visva Vidyalayam and my roll is\",123)"
   ]
  },
  {
   "cell_type": "code",
   "execution_count": 11,
   "id": "45d9dec3",
   "metadata": {},
   "outputs": [
    {
     "data": {
      "text/plain": [
       "(9, 'Ruthu', 9.3)"
      ]
     },
     "execution_count": 11,
     "metadata": {},
     "output_type": "execute_result"
    }
   ],
   "source": [
    "# at a time you can print/display multiple outputs\n",
    "9,\"Ruthu\",9.3 # groups the values together in tuple format"
   ]
  },
  {
   "cell_type": "code",
   "execution_count": 14,
   "id": "1f92e3e1",
   "metadata": {},
   "outputs": [
    {
     "name": "stdout",
     "output_type": "stream",
     "text": [
      "Sandhya 123 MCA\n",
      "Sandhya,123,MCA,IIyear\n",
      "Sandhya,123,MCA,IIyear."
     ]
    }
   ],
   "source": [
    "# while printing multiple values together user can separate those items\n",
    "print(\"Sandhya\",123,'MCA')# single line output that shows no difference\n",
    "print(\"Sandhya\",123,'MCA','IIyear',sep=\",\")\n",
    "print(\"Sandhya\",123,'MCA','IIyear',sep=\",\",end=\".\")"
   ]
  },
  {
   "cell_type": "code",
   "execution_count": 20,
   "id": "a516294d",
   "metadata": {
    "collapsed": true
   },
   "outputs": [
    {
     "name": "stdout",
     "output_type": "stream",
     "text": [
      "  * *\n",
      "*     *\n",
      "*    *\n",
      "* *\n",
      "*   *\n",
      "*    *\n"
     ]
    }
   ],
   "source": [
    "# similarly print the first character of your name as a dotted/marked line\n",
    "# I should print R\n",
    "print(\"  * *\")\n",
    "print(\"*     *\")\n",
    "print(\"*    *\")\n",
    "print(\"* *\")\n",
    "print(\"*   *\")\n",
    "print(\"*    *\")\n"
   ]
  },
  {
   "cell_type": "markdown",
   "id": "7ccf1c87",
   "metadata": {},
   "source": [
    "# heading1\n",
    "## heading2\n",
    "### heading3\n",
    "#### heading4\n",
    "##### heading5\n",
    "###### heading6\n",
    "\n",
    "- plain text\n",
    "- *italic* text in this line\n",
    "- **bold** text\n",
    "- ***italic bold*** text"
   ]
  },
  {
   "cell_type": "markdown",
   "id": "16b0f153",
   "metadata": {},
   "source": [
    "#### Students Record\n",
    "|Name|Roll|Branch|Year|\n",
    "| --- | --- | --- | --- |\n",
    "|Sandhya|123|MCA|2|\n",
    "|Manasa|6004|MBA|3|\n",
    "|Nagalakshmi|6013|MCA|3|\n"
   ]
  },
  {
   "cell_type": "markdown",
   "id": "ba0ff211",
   "metadata": {},
   "source": [
    "#### adding image in our technical document\n",
    "- user have use <img> of HTML"
   ]
  },
  {
   "cell_type": "markdown",
   "id": "7ac80f74",
   "metadata": {},
   "source": [
    "<p style=\"color:red\">Working with HTML in Markdown</p>"
   ]
  },
  {
   "cell_type": "markdown",
   "id": "6dcc2416",
   "metadata": {},
   "source": [
    "<img src=\"blue_nature.jpg\" height=80px width=90px align='right'>"
   ]
  },
  {
   "cell_type": "markdown",
   "id": "8e58c14c",
   "metadata": {},
   "source": [
    "<img src=\"myself.jpeg\" height=100px width=120px align=left></img>"
   ]
  },
  {
   "cell_type": "markdown",
   "id": "2748d1a7",
   "metadata": {},
   "source": [
    "#### Task \n",
    "- student has to prepare their resume with profile picture right side\n",
    "- educational qualification as table\n",
    "- technical skills line by line\n",
    "- contact information"
   ]
  },
  {
   "cell_type": "markdown",
   "id": "a59d0752",
   "metadata": {},
   "source": [
    "#### Keywords in python\n",
    "- a keyword is a reserved word which has special meaning and purpose in the code\n",
    "- There are 35 keywords in python"
   ]
  },
  {
   "cell_type": "code",
   "execution_count": 24,
   "id": "9ad3d791",
   "metadata": {
    "collapsed": true
   },
   "outputs": [
    {
     "ename": "SyntaxError",
     "evalue": "invalid syntax (3364433844.py, line 1)",
     "output_type": "error",
     "traceback": [
      "\u001b[1;36m  File \u001b[1;32m\"C:\\Users\\ruthu\\AppData\\Local\\Temp\\ipykernel_5472\\3364433844.py\"\u001b[1;36m, line \u001b[1;32m1\u001b[0m\n\u001b[1;33m    as\u001b[0m\n\u001b[1;37m    ^\u001b[0m\n\u001b[1;31mSyntaxError\u001b[0m\u001b[1;31m:\u001b[0m invalid syntax\n"
     ]
    }
   ],
   "source": [
    "as - alias(user can import the module as a iterable )\n",
    "and - logical operator\n",
    "break - flow control statement\n",
    "#bool() - predefined function\n",
    "continue - flow control\n",
    "del - deletes the var/item/iterable\n",
    "def - function block\n",
    "else- conditional\n",
    "elif- conditional\n",
    "except - exception handling keyword\n",
    "for- loop\n",
    "from -used while importing module\n",
    "finally - exception handling\n",
    "if - conditional\n",
    "import - imports the module\n",
    "in - membership operator\n",
    "lambda - anonymous function\n",
    "not - logical op'r\n",
    "or- logical op'r\n",
    "pass - flow control statement\n",
    "raise - exception handling\n",
    "return - used in function\n",
    "try - exception handling\n",
    "with - used while working with files\n",
    "while - loop\n",
    "yield - used function block\n",
    "nonlocal - to declare the variable\n",
    "global - to declare the variable"
   ]
  },
  {
   "cell_type": "code",
   "execution_count": 26,
   "id": "02d63504",
   "metadata": {},
   "outputs": [
    {
     "name": "stdout",
     "output_type": "stream",
     "text": [
      "['False', 'None', 'True', '__peg_parser__', 'and', 'as', 'assert', 'async', 'await', 'break', 'class', 'continue', 'def', 'del', 'elif', 'else', 'except', 'finally', 'for', 'from', 'global', 'if', 'import', 'in', 'is', 'lambda', 'nonlocal', 'not', 'or', 'pass', 'raise', 'return', 'try', 'while', 'with', 'yield']\n"
     ]
    }
   ],
   "source": [
    "import keyword # imports the module in our file\n",
    "print(keyword.kwlist)"
   ]
  },
  {
   "cell_type": "code",
   "execution_count": null,
   "id": "52bc883d",
   "metadata": {},
   "outputs": [],
   "source": [
    "process synchronization:assert,async,await\n",
    "    "
   ]
  }
 ],
 "metadata": {
  "kernelspec": {
   "display_name": "Python 3 (ipykernel)",
   "language": "python",
   "name": "python3"
  },
  "language_info": {
   "codemirror_mode": {
    "name": "ipython",
    "version": 3
   },
   "file_extension": ".py",
   "mimetype": "text/x-python",
   "name": "python",
   "nbconvert_exporter": "python",
   "pygments_lexer": "ipython3",
   "version": "3.9.13"
  }
 },
 "nbformat": 4,
 "nbformat_minor": 5
}
